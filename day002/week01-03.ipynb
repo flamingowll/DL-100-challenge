{
 "cells": [
  {
   "cell_type": "code",
   "execution_count": 1,
   "id": "f970e63c-3221-4513-bf3b-b531124483f3",
   "metadata": {},
   "outputs": [],
   "source": [
    "import numpy as np\n",
    "from sklearn.datasets import load_digits\n",
    "import pandas as pd"
   ]
  },
  {
   "cell_type": "code",
   "execution_count": 2,
   "id": "9b13dcdd-bc39-4159-9763-8b2ba07c17cf",
   "metadata": {},
   "outputs": [],
   "source": [
    "mnist = load_digits()\n",
    "X,y = mnist.data, mnist.target"
   ]
  },
  {
   "cell_type": "code",
   "execution_count": 3,
   "id": "008836eb-914e-4699-9b2d-4abf90297f27",
   "metadata": {},
   "outputs": [],
   "source": [
    "from sklearn.model_selection import train_test_split"
   ]
  },
  {
   "cell_type": "code",
   "execution_count": 4,
   "id": "8aa0445e-3cfb-4f93-88c0-6e649e28a453",
   "metadata": {},
   "outputs": [],
   "source": [
    "y_odd = ((y == 2) | (y == 4) | (y == 6) | (y == 8) | (y == 0))"
   ]
  },
  {
   "cell_type": "code",
   "execution_count": 5,
   "id": "9f7ffccc-6d88-4843-a2fa-d7ccb007b29f",
   "metadata": {},
   "outputs": [],
   "source": [
    "y_odd = y_odd.reshape(y_odd.shape[0],1).astype(int)"
   ]
  },
  {
   "cell_type": "code",
   "execution_count": 6,
   "id": "095ad75d-9ca6-4990-b0e1-0774ad052339",
   "metadata": {},
   "outputs": [
    {
     "data": {
      "text/plain": [
       "(1797, 1)"
      ]
     },
     "execution_count": 6,
     "metadata": {},
     "output_type": "execute_result"
    }
   ],
   "source": [
    "y_odd.shape"
   ]
  },
  {
   "cell_type": "code",
   "execution_count": 7,
   "id": "c55f2fa0-c3e6-479a-b5bd-91a016edcdab",
   "metadata": {},
   "outputs": [],
   "source": [
    "X_tr,X_te,y_tr, y_te = train_test_split(X,y_odd,test_size=0.3, random_state=40)"
   ]
  },
  {
   "cell_type": "code",
   "execution_count": 29,
   "id": "80e731ba-24f6-43c6-8d3a-2b2555f79f3e",
   "metadata": {},
   "outputs": [
    {
     "ename": "TypeError",
     "evalue": "data type 'np.float128' not understood",
     "output_type": "error",
     "traceback": [
      "\u001b[1;31m---------------------------------------------------------------------------\u001b[0m",
      "\u001b[1;31mTypeError\u001b[0m                                 Traceback (most recent call last)",
      "Cell \u001b[1;32mIn[29], line 1\u001b[0m\n\u001b[1;32m----> 1\u001b[0m X_tr \u001b[38;5;241m=\u001b[39m \u001b[43mX_tr\u001b[49m\u001b[38;5;241;43m.\u001b[39;49m\u001b[43mastype\u001b[49m\u001b[43m(\u001b[49m\u001b[38;5;124;43m'\u001b[39;49m\u001b[38;5;124;43mnp.float128\u001b[39;49m\u001b[38;5;124;43m'\u001b[39;49m\u001b[43m)\u001b[49m\n\u001b[0;32m      2\u001b[0m X_te \u001b[38;5;241m=\u001b[39m X_te\u001b[38;5;241m.\u001b[39mastype(\u001b[38;5;124m'\u001b[39m\u001b[38;5;124mnp.float128\u001b[39m\u001b[38;5;124m'\u001b[39m)\n\u001b[0;32m      3\u001b[0m y_tr \u001b[38;5;241m=\u001b[39m y_tr\u001b[38;5;241m.\u001b[39mastype(\u001b[38;5;124m'\u001b[39m\u001b[38;5;124mnp.float128\u001b[39m\u001b[38;5;124m'\u001b[39m)\n",
      "\u001b[1;31mTypeError\u001b[0m: data type 'np.float128' not understood"
     ]
    }
   ],
   "source": [
    "X_tr = X_tr.astype('np.float128')\n",
    "X_te = X_te.astype('np.float128')\n",
    "y_tr = y_tr.astype('np.float128')\n",
    "y_te = y_te.astype('np.float128')"
   ]
  },
  {
   "cell_type": "code",
   "execution_count": 9,
   "id": "5310ad5f-5cd7-48d3-bded-c45f9a46918f",
   "metadata": {},
   "outputs": [],
   "source": [
    "def initializer(X,y):\n",
    "    n_x = X.shape[0]\n",
    "    n_h = 5\n",
    "    n_y = y.shape[0]\n",
    "\n",
    "    W1 = np.random.randn(n_h,n_x) * 0.01\n",
    "    b1 = np.zeros((n_h, 1))\n",
    "    W2 = np.random.randn(n_y,n_h) * 0.01\n",
    "    b2 = np.zeros((n_y,1))\n",
    "    \n",
    "    return {\"size\":[n_x,n_h,n_y],\n",
    "            \"params\":[W1, b1, W2, b2]}"
   ]
  },
  {
   "cell_type": "code",
   "execution_count": 10,
   "id": "bb91cde1-af2b-456e-945d-3c2e6ceedffc",
   "metadata": {},
   "outputs": [],
   "source": [
    "W1, b1, W2, b2 = initializer(X_tr, y_tr)[\"params\"]"
   ]
  },
  {
   "cell_type": "code",
   "execution_count": 11,
   "id": "4756420a-1c0a-4be8-8ea1-399987f7bfa0",
   "metadata": {},
   "outputs": [],
   "source": [
    "def ReLU(z):\n",
    "    relu = np.maximum(0,z)\n",
    "    return relu\n",
    "\n",
    "def ReLU_prime(z):\n",
    "    result = (z >= 0).astype(int)\n",
    "    return result\n",
    "\n",
    "def sigmoid(z):\n",
    "    s = 1.0/(1+np.exp(-z))\n",
    "    return s"
   ]
  },
  {
   "cell_type": "code",
   "execution_count": 12,
   "id": "9b0fe8c5-1978-42cd-9b74-4e46cbd1b94f",
   "metadata": {},
   "outputs": [
    {
     "data": {
      "text/plain": [
       "array([1, 2, 3, 4, 5, 6, 0])"
      ]
     },
     "execution_count": 12,
     "metadata": {},
     "output_type": "execute_result"
    }
   ],
   "source": [
    "ReLU([1,2,3,4,5,6,-5])"
   ]
  },
  {
   "cell_type": "code",
   "execution_count": 13,
   "id": "a7fd152e-3664-4bee-bae9-36edef7fbc3e",
   "metadata": {},
   "outputs": [],
   "source": [
    "def fprop(X, parameters):\n",
    "    \n",
    "    W1 = parameters[0]\n",
    "    b1 = parameters[1]\n",
    "    W2 = parameters[2]\n",
    "    b2 = parameters[3]\n",
    "    \n",
    "    Z1 = np.dot(W1,X)+b1\n",
    "    A1 = ReLU(Z1)\n",
    "    Z2 = np.dot(W2,A1)+b2\n",
    "    A2 = sigmoid(Z2)\n",
    "\n",
    "    #assert(A2.shape == (size[2], X.shape[1]))\n",
    "    \n",
    "    \n",
    "    return [Z1,A1,Z2,A2]"
   ]
  },
  {
   "cell_type": "code",
   "execution_count": 14,
   "id": "117587d3-24c5-4697-9b37-c5f709b6878a",
   "metadata": {},
   "outputs": [],
   "source": [
    "Z1,A1,Z2,A2 = fprop(X_tr, [W1, b1, W2, b2])"
   ]
  },
  {
   "cell_type": "code",
   "execution_count": 15,
   "id": "52302710-54c9-4ac9-b6e4-9e7b787219df",
   "metadata": {},
   "outputs": [],
   "source": [
    "def cost(A2, y):\n",
    "    m = y.shape[0]\n",
    "\n",
    "    cost  = (-1/m) * np.sum((np.multiply(y , np.log(A2))) + (np.multiply((1-y) , np.log(1-A2))))\n",
    "    J = float(np.squeeze(cost))\n",
    "    \n",
    "    return J"
   ]
  },
  {
   "cell_type": "code",
   "execution_count": 16,
   "id": "b765fabd-fa5c-4ebe-8093-c8a26c5d6eb4",
   "metadata": {},
   "outputs": [
    {
     "data": {
      "text/plain": [
       "44.36640999124313"
      ]
     },
     "execution_count": 16,
     "metadata": {},
     "output_type": "execute_result"
    }
   ],
   "source": [
    "cost(A2, y_tr)"
   ]
  },
  {
   "cell_type": "code",
   "execution_count": 17,
   "id": "c8e87e54-0572-4d35-bcb8-eabb7f5701ac",
   "metadata": {},
   "outputs": [],
   "source": [
    "def backward_propagation(parameters, fprop, X, y):\n",
    "    m = X.shape[1]\n",
    "    \n",
    "    W1 = parameters[0]\n",
    "    b1 = parameters[1]\n",
    "    W2 = parameters[2]\n",
    "    b2 = parameters[3]\n",
    "\n",
    "    Z1 = fprop[0]\n",
    "    A1 = fprop[1]\n",
    "    Z2 = fprop[2]\n",
    "    A2 = fprop[3]\n",
    "\n",
    "    dZ2 = A2 - y\n",
    "    dW2 = (1/m) * np.dot(dZ2, A1.T)\n",
    "    db2 = (1/m) * np.sum(dZ2, axis = 1, keepdims=True)\n",
    "    dZ1 = np.dot(W2.T, dZ2) *  (ReLU_prime(Z1))\n",
    "    dW1 = (1/m) * np.dot(dZ1,X.T)\n",
    "    db1 = (1/m) * np.sum(dZ1, axis = 1, keepdims=True)\n",
    "\n",
    "    grads = {\n",
    "        \"dW1\": dW1,\n",
    "        \"db1\": db1,\n",
    "        \"dZ1\": dZ1,\n",
    "        \"dW2\": dW2,\n",
    "        \"db2\": db2,\n",
    "        \"dZ2\": dZ2,    \n",
    "    }\n",
    "    return grads"
   ]
  },
  {
   "cell_type": "code",
   "execution_count": 18,
   "id": "3aad5a5a-7348-4840-ae1f-589b16348023",
   "metadata": {},
   "outputs": [],
   "source": [
    "grads = backward_propagation([W1, b1, W2, b2], [Z1,A1,Z2,A2], X_tr, y_tr)"
   ]
  },
  {
   "cell_type": "code",
   "execution_count": 19,
   "id": "c1541c54-407a-4d16-a4a9-54be365cb05c",
   "metadata": {},
   "outputs": [],
   "source": [
    "def update_parameters(parameters, grad, learning_rate):\n",
    "\n",
    "    W1 = parameters[0]\n",
    "    b1 = parameters[1]\n",
    "    W2 = parameters[2]\n",
    "    b2 = parameters[3]\n",
    "\n",
    "    dW1 = grads[\"dW1\"]\n",
    "    db1 = grads[\"db1\"]\n",
    "    dW2 = grads[\"dW2\"]\n",
    "    db2 = grads[\"db2\"]\n",
    "\n",
    "    W1 = W1 - learning_rate * dW1\n",
    "    b1 = b1 - learning_rate * db1\n",
    "    W2 = W2 - learning_rate * dW2\n",
    "    b2 = b2 - learning_rate * db2\n",
    "\n",
    "    parameters = [W1, b1, W2, b2]\n",
    "    \n",
    "    return parameters"
   ]
  },
  {
   "cell_type": "code",
   "execution_count": 24,
   "id": "17c0f10a-9c00-4f86-ac2a-11e732862b8c",
   "metadata": {},
   "outputs": [
    {
     "data": {
      "text/plain": [
       "[array([[-0.0026766 ,  0.00032985,  0.00729427, ...,  0.01572954,\n",
       "          0.00732482,  0.01706953],\n",
       "        [-0.02374799, -0.02653466, -0.02728272, ..., -0.03791729,\n",
       "         -0.03373308, -0.03617991],\n",
       "        [-0.06712413, -0.0431784 , -0.03764211, ..., -0.04366167,\n",
       "         -0.05281877, -0.07402739],\n",
       "        [-0.01676365, -0.01162049, -0.00227327, ...,  0.00796245,\n",
       "         -0.00345037, -0.03321419],\n",
       "        [ 0.01180146, -0.00469875,  0.00124898, ...,  0.0158736 ,\n",
       "          0.0199922 ,  0.01745109]]),\n",
       " array([[ 0.00731432],\n",
       "        [-0.00321975],\n",
       "        [-0.008631  ],\n",
       "        [-0.00299823],\n",
       "        [ 0.00476812]]),\n",
       " array([[ 0.00905607, -0.11415923, -0.03134378, -0.02604681, -0.04883148],\n",
       "        [ 0.02597411,  0.10480524,  0.03681406,  0.00289539,  0.05052703],\n",
       "        [-0.0081372 ,  0.12821997,  0.02423891,  0.0016897 ,  0.06629646],\n",
       "        ...,\n",
       "        [-0.00110629, -0.10863283, -0.04193858, -0.02073008, -0.04990824],\n",
       "        [-0.00693964, -0.10984574, -0.02641288, -0.01591921, -0.02823417],\n",
       "        [-0.00945726, -0.11064603, -0.02006654, -0.00983109, -0.04788552]]),\n",
       " array([[-0.04985465],\n",
       "        [ 0.05064656],\n",
       "        [ 0.04851047],\n",
       "        ...,\n",
       "        [-0.05008843],\n",
       "        [-0.05108518],\n",
       "        [-0.05057003]])]"
      ]
     },
     "execution_count": 24,
     "metadata": {},
     "output_type": "execute_result"
    }
   ],
   "source": [
    "update_parameters([W1, b1, W2, b2],grads,0.1)"
   ]
  },
  {
   "cell_type": "code",
   "execution_count": 25,
   "id": "c7d4bc6e-85c6-4df7-b272-17c4e0f41222",
   "metadata": {},
   "outputs": [],
   "source": [
    "def nn_model(X, y, learning_rate= 0.1,num_iter = 10001, print_cost= True):\n",
    "    np.random.seed(3)\n",
    "\n",
    "    n_x , n_fl , n_y = initializer(X,y)[\"size\"]\n",
    "\n",
    "    parameters = initializer(X,y)[\"params\"]\n",
    "\n",
    "    W1 = parameters[0]\n",
    "    b1 = parameters[1]\n",
    "    W2 = parameters[2]\n",
    "    b2 = parameters[3]\n",
    "\n",
    "    for i in range(num_iter):\n",
    "        #print(parameters,\"****\")\n",
    "\n",
    "        # fp\n",
    "        Z1,A1,Z2,A2 = fprop(X,parameters)\n",
    "        \n",
    "        # cost\n",
    "        costf = cost(A2, y)\n",
    "        \n",
    "        # bp\n",
    "        grads = backward_propagation(parameters,[Z1,A1,Z2,A2],X,y)\n",
    "        \n",
    "        # gd\n",
    "        parameters = update_parameters(parameters, grads,learning_rate)\n",
    "\n",
    "\n",
    "        # print cost\n",
    "        if print_cost and i%1000 == 0:\n",
    "            print (\"Cost after iteration %i: %f\" %(i, costf))\n",
    "            #print(i,\"*****\",A2,\"****\")\n",
    "            \n",
    "    return parameters"
   ]
  },
  {
   "cell_type": "code",
   "execution_count": 26,
   "id": "1a9bc57b-c961-45f0-ad71-6a66df7e9e5b",
   "metadata": {},
   "outputs": [
    {
     "name": "stdout",
     "output_type": "stream",
     "text": [
      "h =  0.001\n",
      "Cost after iteration 0: 44.393496\n"
     ]
    },
    {
     "name": "stderr",
     "output_type": "stream",
     "text": [
      "C:\\Windows\\Temp\\ipykernel_11356\\3408913607.py:4: RuntimeWarning: divide by zero encountered in log\n",
      "  cost  = (-1/m) * np.sum((np.multiply(y , np.log(A2))) + (np.multiply((1-y) , np.log(1-A2))))\n",
      "C:\\Windows\\Temp\\ipykernel_11356\\3408913607.py:4: RuntimeWarning: invalid value encountered in multiply\n",
      "  cost  = (-1/m) * np.sum((np.multiply(y , np.log(A2))) + (np.multiply((1-y) , np.log(1-A2))))\n",
      "C:\\Windows\\Temp\\ipykernel_11356\\725635873.py:10: RuntimeWarning: overflow encountered in exp\n",
      "  s = 1.0/(1+np.exp(-z))\n"
     ]
    },
    {
     "name": "stdout",
     "output_type": "stream",
     "text": [
      "Cost after iteration 1000: nan\n",
      "Cost after iteration 2000: nan\n",
      "h =  0.01\n",
      "Cost after iteration 0: 44.393496\n",
      "Cost after iteration 1000: nan\n",
      "Cost after iteration 2000: nan\n",
      "h =  1\n",
      "Cost after iteration 0: 44.393496\n",
      "Cost after iteration 1000: nan\n"
     ]
    },
    {
     "ename": "KeyboardInterrupt",
     "evalue": "",
     "output_type": "error",
     "traceback": [
      "\u001b[1;31m---------------------------------------------------------------------------\u001b[0m",
      "\u001b[1;31mKeyboardInterrupt\u001b[0m                         Traceback (most recent call last)",
      "Cell \u001b[1;32mIn[26], line 3\u001b[0m\n\u001b[0;32m      1\u001b[0m \u001b[38;5;28;01mfor\u001b[39;00m h \u001b[38;5;129;01min\u001b[39;00m [\u001b[38;5;241m0.001\u001b[39m,\u001b[38;5;241m0.01\u001b[39m,\u001b[38;5;241m1\u001b[39m,\u001b[38;5;241m10\u001b[39m,\u001b[38;5;241m100\u001b[39m]:\n\u001b[0;32m      2\u001b[0m     \u001b[38;5;28mprint\u001b[39m(\u001b[38;5;124m\"\u001b[39m\u001b[38;5;124mh = \u001b[39m\u001b[38;5;124m\"\u001b[39m, h)\n\u001b[1;32m----> 3\u001b[0m     p \u001b[38;5;241m=\u001b[39m \u001b[43mnn_model\u001b[49m\u001b[43m(\u001b[49m\u001b[43mX_tr\u001b[49m\u001b[43m,\u001b[49m\u001b[43my_tr\u001b[49m\u001b[43m,\u001b[49m\u001b[43mh\u001b[49m\u001b[43m,\u001b[49m\u001b[43m \u001b[49m\u001b[43mnum_iter\u001b[49m\u001b[43m \u001b[49m\u001b[38;5;241;43m=\u001b[39;49m\u001b[43m \u001b[49m\u001b[38;5;241;43m2001\u001b[39;49m\u001b[43m)\u001b[49m\n\u001b[0;32m      4\u001b[0m     p\n",
      "Cell \u001b[1;32mIn[25], line 17\u001b[0m, in \u001b[0;36mnn_model\u001b[1;34m(X, y, learning_rate, num_iter, print_cost)\u001b[0m\n\u001b[0;32m     11\u001b[0m b2 \u001b[38;5;241m=\u001b[39m parameters[\u001b[38;5;241m3\u001b[39m]\n\u001b[0;32m     13\u001b[0m \u001b[38;5;28;01mfor\u001b[39;00m i \u001b[38;5;129;01min\u001b[39;00m \u001b[38;5;28mrange\u001b[39m(num_iter):\n\u001b[0;32m     14\u001b[0m     \u001b[38;5;66;03m#print(parameters,\"****\")\u001b[39;00m\n\u001b[0;32m     15\u001b[0m \n\u001b[0;32m     16\u001b[0m     \u001b[38;5;66;03m# fp\u001b[39;00m\n\u001b[1;32m---> 17\u001b[0m     Z1,A1,Z2,A2 \u001b[38;5;241m=\u001b[39m \u001b[43mfprop\u001b[49m\u001b[43m(\u001b[49m\u001b[43mX\u001b[49m\u001b[43m,\u001b[49m\u001b[43mparameters\u001b[49m\u001b[43m)\u001b[49m\n\u001b[0;32m     19\u001b[0m     \u001b[38;5;66;03m# cost\u001b[39;00m\n\u001b[0;32m     20\u001b[0m     costf \u001b[38;5;241m=\u001b[39m cost(A2, y)\n",
      "Cell \u001b[1;32mIn[13], line 11\u001b[0m, in \u001b[0;36mfprop\u001b[1;34m(X, parameters)\u001b[0m\n\u001b[0;32m      9\u001b[0m A1 \u001b[38;5;241m=\u001b[39m ReLU(Z1)\n\u001b[0;32m     10\u001b[0m Z2 \u001b[38;5;241m=\u001b[39m np\u001b[38;5;241m.\u001b[39mdot(W2,A1)\u001b[38;5;241m+\u001b[39mb2\n\u001b[1;32m---> 11\u001b[0m A2 \u001b[38;5;241m=\u001b[39m \u001b[43msigmoid\u001b[49m\u001b[43m(\u001b[49m\u001b[43mZ2\u001b[49m\u001b[43m)\u001b[49m\n\u001b[0;32m     13\u001b[0m \u001b[38;5;66;03m#assert(A2.shape == (size[2], X.shape[1]))\u001b[39;00m\n\u001b[0;32m     16\u001b[0m \u001b[38;5;28;01mreturn\u001b[39;00m [Z1,A1,Z2,A2]\n",
      "Cell \u001b[1;32mIn[11], line 10\u001b[0m, in \u001b[0;36msigmoid\u001b[1;34m(z)\u001b[0m\n\u001b[0;32m      9\u001b[0m \u001b[38;5;28;01mdef\u001b[39;00m \u001b[38;5;21msigmoid\u001b[39m(z):\n\u001b[1;32m---> 10\u001b[0m     s \u001b[38;5;241m=\u001b[39m \u001b[38;5;241m1.0\u001b[39m\u001b[38;5;241m/\u001b[39m(\u001b[38;5;241m1\u001b[39m\u001b[38;5;241m+\u001b[39m\u001b[43mnp\u001b[49m\u001b[38;5;241;43m.\u001b[39;49m\u001b[43mexp\u001b[49m\u001b[43m(\u001b[49m\u001b[38;5;241;43m-\u001b[39;49m\u001b[43mz\u001b[49m\u001b[43m)\u001b[49m)\n\u001b[0;32m     11\u001b[0m     \u001b[38;5;28;01mreturn\u001b[39;00m s\n",
      "\u001b[1;31mKeyboardInterrupt\u001b[0m: "
     ]
    }
   ],
   "source": [
    "for h in [0.001,0.01,1,10,100]:\n",
    "    print(\"h = \", h)\n",
    "    p = nn_model(X_tr,y_tr,h, num_iter = 2001)\n",
    "    p"
   ]
  },
  {
   "cell_type": "code",
   "execution_count": null,
   "id": "0d59b063-c3e1-4770-be69-9cf109413eed",
   "metadata": {},
   "outputs": [],
   "source": [
    "p = nn_model(X_tr,y_tr, num_iter = 10000, learning_rate = 1000)\n"
   ]
  },
  {
   "cell_type": "code",
   "execution_count": null,
   "id": "946b8cc9-adf7-4db5-afac-7723a9970d24",
   "metadata": {},
   "outputs": [],
   "source": [
    "def predict(parameters, X,y):\n",
    "    \n",
    "    Z1,A1,Z2,A2 = fprop(X,y)\n",
    "\n",
    "    predictions = (A2>0.5)\n",
    "\n",
    "    return predictions"
   ]
  },
  {
   "cell_type": "code",
   "execution_count": null,
   "id": "c5cfc60d-7db5-4cd1-b298-92aeca2a25d2",
   "metadata": {},
   "outputs": [],
   "source": [
    "preds = predict(p,X_te,y_te)"
   ]
  },
  {
   "cell_type": "code",
   "execution_count": null,
   "id": "a2af60c6-8716-41da-9375-e2fd212caa1e",
   "metadata": {},
   "outputs": [],
   "source": [
    "preds"
   ]
  },
  {
   "cell_type": "code",
   "execution_count": null,
   "id": "fda866f2-1e29-4060-b7a9-2f85fa8ec88b",
   "metadata": {},
   "outputs": [],
   "source": [
    "#print('Accuracy: %d' %float((np.dot(y_te,preds.T) + np.dot(1 - y_te, 1 - preds.T))/float(y_te.size)*100)+'%')"
   ]
  },
  {
   "cell_type": "code",
   "execution_count": null,
   "id": "5f2a7854-4a72-4620-88da-74d6ccf75394",
   "metadata": {},
   "outputs": [],
   "source": [
    "Accuracy = (preds == y_te)"
   ]
  },
  {
   "cell_type": "code",
   "execution_count": null,
   "id": "ffe87e99-fbf5-4076-9e5d-e860efe9a4ca",
   "metadata": {},
   "outputs": [],
   "source": [
    "Accuracy.sum()/(Accuracy.shape[0]*Accuracy.shape[1])"
   ]
  },
  {
   "cell_type": "code",
   "execution_count": null,
   "id": "170a5e64-47eb-4971-8205-4d9c3f33194e",
   "metadata": {},
   "outputs": [],
   "source": []
  }
 ],
 "metadata": {
  "kernelspec": {
   "display_name": "Python 3 (ipykernel)",
   "language": "python",
   "name": "python3"
  },
  "language_info": {
   "codemirror_mode": {
    "name": "ipython",
    "version": 3
   },
   "file_extension": ".py",
   "mimetype": "text/x-python",
   "name": "python",
   "nbconvert_exporter": "python",
   "pygments_lexer": "ipython3",
   "version": "3.10.14"
  }
 },
 "nbformat": 4,
 "nbformat_minor": 5
}
