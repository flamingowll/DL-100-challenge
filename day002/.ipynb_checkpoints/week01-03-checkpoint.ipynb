{
 "cells": [
  {
   "cell_type": "code",
   "execution_count": 1,
   "id": "f970e63c-3221-4513-bf3b-b531124483f3",
   "metadata": {},
   "outputs": [],
   "source": [
    "import numpy as np\n",
    "from sklearn.datasets import load_digits\n",
    "import pandas as pd"
   ]
  },
  {
   "cell_type": "code",
   "execution_count": 2,
   "id": "9b13dcdd-bc39-4159-9763-8b2ba07c17cf",
   "metadata": {},
   "outputs": [],
   "source": [
    "mnist = load_digits()\n",
    "X,y = mnist.data, mnist.target"
   ]
  },
  {
   "cell_type": "code",
   "execution_count": 3,
   "id": "008836eb-914e-4699-9b2d-4abf90297f27",
   "metadata": {},
   "outputs": [],
   "source": [
    "from sklearn.model_selection import train_test_split"
   ]
  },
  {
   "cell_type": "code",
   "execution_count": 4,
   "id": "8aa0445e-3cfb-4f93-88c0-6e649e28a453",
   "metadata": {},
   "outputs": [],
   "source": [
    "y_odd = ((y == 2) | (y == 4) | (y == 6) | (y == 8) | (y == 0))"
   ]
  },
  {
   "cell_type": "code",
   "execution_count": 5,
   "id": "9f7ffccc-6d88-4843-a2fa-d7ccb007b29f",
   "metadata": {},
   "outputs": [],
   "source": [
    "y_odd = y_odd.reshape(y_odd.shape[0],1).astype(int)"
   ]
  },
  {
   "cell_type": "code",
   "execution_count": 6,
   "id": "095ad75d-9ca6-4990-b0e1-0774ad052339",
   "metadata": {},
   "outputs": [
    {
     "data": {
      "text/plain": [
       "(1797, 1)"
      ]
     },
     "execution_count": 6,
     "metadata": {},
     "output_type": "execute_result"
    }
   ],
   "source": [
    "y_odd.shape"
   ]
  },
  {
   "cell_type": "code",
   "execution_count": 7,
   "id": "c55f2fa0-c3e6-479a-b5bd-91a016edcdab",
   "metadata": {},
   "outputs": [],
   "source": [
    "X_tr,X_te,y_tr, y_te = train_test_split(X,y_odd,test_size=0.3, random_state=40)"
   ]
  },
  {
   "cell_type": "code",
   "execution_count": 8,
   "id": "80e731ba-24f6-43c6-8d3a-2b2555f79f3e",
   "metadata": {},
   "outputs": [
    {
     "data": {
      "text/plain": [
       "(1257, 1)"
      ]
     },
     "execution_count": 8,
     "metadata": {},
     "output_type": "execute_result"
    }
   ],
   "source": [
    "y_tr.shape"
   ]
  },
  {
   "cell_type": "code",
   "execution_count": 9,
   "id": "5310ad5f-5cd7-48d3-bded-c45f9a46918f",
   "metadata": {},
   "outputs": [],
   "source": [
    "def initializer(X,y):\n",
    "    n_x = X.shape[0]\n",
    "    n_h = 5\n",
    "    n_y = y.shape[0]\n",
    "\n",
    "    W1 = np.random.randn(n_h,n_x) * 0.01\n",
    "    b1 = np.zeros((n_h, 1))\n",
    "    W2 = np.random.randn(n_y,n_h) * 0.01\n",
    "    b2 = np.zeros((n_y,1))\n",
    "    \n",
    "    return {\"size\":[n_x,n_h,n_y],\n",
    "            \"params\":[W1, b1, W2, b2]}"
   ]
  },
  {
   "cell_type": "code",
   "execution_count": 10,
   "id": "bb91cde1-af2b-456e-945d-3c2e6ceedffc",
   "metadata": {},
   "outputs": [],
   "source": [
    "W1, b1, W2, b2 = initializer(X_tr, y_tr)[\"params\"]"
   ]
  },
  {
   "cell_type": "code",
   "execution_count": 11,
   "id": "4756420a-1c0a-4be8-8ea1-399987f7bfa0",
   "metadata": {},
   "outputs": [],
   "source": [
    "def ReLU(z):\n",
    "    relu = np.maximum(0,z)\n",
    "    return relu\n",
    "\n",
    "def ReLU_prime(z):\n",
    "    result = (z >= 0).astype(int)\n",
    "    return result\n",
    "\n",
    "def sigmoid(z):\n",
    "    s = 1.0/(1+np.exp(-z))\n",
    "    return s"
   ]
  },
  {
   "cell_type": "code",
   "execution_count": 12,
   "id": "a7fd152e-3664-4bee-bae9-36edef7fbc3e",
   "metadata": {},
   "outputs": [],
   "source": [
    "def fprop(X, parameters):\n",
    "    \n",
    "\n",
    "    Z1 = np.dot(W1,X)+b1\n",
    "    A1 = ReLU(Z1)\n",
    "    Z2 = np.dot(W2,A1)+b2\n",
    "    A2 = sigmoid(Z2)\n",
    "\n",
    "    #assert(A2.shape == (size[2], X.shape[1]))\n",
    "    \n",
    "    \n",
    "    return [Z1,A1,Z2,A2]"
   ]
  },
  {
   "cell_type": "code",
   "execution_count": 23,
   "id": "117587d3-24c5-4697-9b37-c5f709b6878a",
   "metadata": {},
   "outputs": [],
   "source": [
    "Z1,A1,Z2,A2 = fprop(X_tr, [W1, b1, W2, b2])"
   ]
  },
  {
   "cell_type": "code",
   "execution_count": 24,
   "id": "52302710-54c9-4ac9-b6e4-9e7b787219df",
   "metadata": {},
   "outputs": [],
   "source": [
    "def cost(A2, y):\n",
    "    m = y.shape[0]\n",
    "\n",
    "    cost  = (-1/m) * np.sum((np.multiply(y , np.log(A2))) + (np.multiply((1-y) , np.log(1-A2))))\n",
    "    J = float(np.squeeze(cost))\n",
    "    \n",
    "    return J"
   ]
  },
  {
   "cell_type": "code",
   "execution_count": 25,
   "id": "b765fabd-fa5c-4ebe-8093-c8a26c5d6eb4",
   "metadata": {},
   "outputs": [
    {
     "data": {
      "text/plain": [
       "44.361207397415306"
      ]
     },
     "execution_count": 25,
     "metadata": {},
     "output_type": "execute_result"
    }
   ],
   "source": [
    "cost(A2, y_tr)"
   ]
  },
  {
   "cell_type": "code",
   "execution_count": 26,
   "id": "c8e87e54-0572-4d35-bcb8-eabb7f5701ac",
   "metadata": {},
   "outputs": [],
   "source": [
    "def backward_propagation(parameters, fprop, X, y):\n",
    "    m = X.shape[1]\n",
    "    \n",
    "    W1 = parameters[0]\n",
    "    b1 = parameters[1]\n",
    "    W2 = parameters[2]\n",
    "    b2 = parameters[3]\n",
    "\n",
    "    Z1 = fprop[0]\n",
    "    A1 = fprop[1]\n",
    "    Z2 = fprop[2]\n",
    "    A2 = fprop[3]\n",
    "\n",
    "    dZ2 = A2 - y\n",
    "    dW2 = (1/m) * np.dot(dZ2, A1.T)\n",
    "    db2 = (1/m) * np.sum(dZ2, axis = 1, keepdims=True)\n",
    "    dZ1 = np.dot(W2.T, dZ2) *  (ReLU_prime(Z1))\n",
    "    dW1 = (1/m) * np.dot(dZ1,X.T)\n",
    "    db1 = (1/m) * np.sum(dZ1, axis = 1, keepdims=True)\n",
    "\n",
    "    grads = {\n",
    "        \"dW1\": dW1,\n",
    "        \"db1\": db1,\n",
    "        \"dZ1\": dZ1,\n",
    "        \"dW2\": dW2,\n",
    "        \"db2\": db2,\n",
    "        \"dZ2\": dZ2,    \n",
    "    }\n",
    "    return grads"
   ]
  },
  {
   "cell_type": "code",
   "execution_count": 27,
   "id": "3aad5a5a-7348-4840-ae1f-589b16348023",
   "metadata": {},
   "outputs": [],
   "source": [
    "grads = backward_propagation([W1, b1, W2, b2], [Z1,A1,Z2,A2], X_tr, y_tr)"
   ]
  },
  {
   "cell_type": "code",
   "execution_count": 28,
   "id": "c1541c54-407a-4d16-a4a9-54be365cb05c",
   "metadata": {},
   "outputs": [],
   "source": [
    "def update_parameters(parameters, grad, learning_rate):\n",
    "\n",
    "    W1 = parameters[0]\n",
    "    b1 = parameters[1]\n",
    "    W2 = parameters[2]\n",
    "    b2 = parameters[3]\n",
    "\n",
    "    dW1 = grads[\"dW1\"]\n",
    "    db1 = grads[\"db1\"]\n",
    "    dW2 = grads[\"dW2\"]\n",
    "    db2 = grads[\"db2\"]\n",
    "\n",
    "    W1 = W1 - learning_rate * dW1\n",
    "    b1 = b1 - learning_rate * db1\n",
    "    W2 = W2 - learning_rate * dW2\n",
    "    b2 = b2 - learning_rate * db2\n",
    "\n",
    "    parameters = [W1, b1, W2, b2]\n",
    "    \n",
    "    return parameters"
   ]
  },
  {
   "cell_type": "code",
   "execution_count": 30,
   "id": "17c0f10a-9c00-4f86-ac2a-11e732862b8c",
   "metadata": {},
   "outputs": [
    {
     "data": {
      "text/plain": [
       "[array([[-3.74836263e+00, -1.29841208e+00, -9.27271923e-01, ...,\n",
       "         -2.44894925e+00, -3.45194368e+00, -3.68712036e+00],\n",
       "        [ 1.02398092e+01,  4.46052417e+00,  6.14803789e+00, ...,\n",
       "          2.55610490e+00,  9.75792020e+00,  1.32716318e+01],\n",
       "        [-8.14574396e-03,  3.63321217e-01,  1.35231123e+00, ...,\n",
       "          1.72574320e+00,  3.70636667e-01,  8.44030738e-01],\n",
       "        [-8.03657360e+00, -8.22916310e+00, -6.17028115e+00, ...,\n",
       "         -9.75539637e+00, -8.08676292e+00, -8.35917536e+00],\n",
       "        [-4.04422055e+01, -3.56307129e+01, -2.70285154e+01, ...,\n",
       "         -4.70317159e+01, -4.27012354e+01, -3.69845071e+01]]),\n",
       " array([[-2.17846179],\n",
       "        [ 2.85421051],\n",
       "        [ 1.25924231],\n",
       "        [-0.58004586],\n",
       "        [-8.41985242]]),\n",
       " array([[ -3.79196969, -68.09450182,  -5.30689439, -25.26397101,\n",
       "         -10.73222758],\n",
       "        [  3.78945696,  67.20368404,   5.21893059,  25.15239492,\n",
       "          10.65598582],\n",
       "        [  3.78278904,  66.66968097,   5.22124233,  24.79033722,\n",
       "          10.51298204],\n",
       "        ...,\n",
       "        [ -3.79963894, -68.93743349,  -5.40642923, -25.63666364,\n",
       "         -10.95107451],\n",
       "        [ -3.78090405, -66.39909537,  -5.26577965, -24.66680955,\n",
       "         -10.54714058],\n",
       "        [ -3.78556654, -67.32552018,  -5.34271955, -24.89284082,\n",
       "         -10.61427317]]),\n",
       " array([[-50.37643885],\n",
       "        [ 50.14965289],\n",
       "        [ 49.95194569],\n",
       "        ...,\n",
       "        [-50.70035458],\n",
       "        [-49.9014453 ],\n",
       "        [-50.17530054]])]"
      ]
     },
     "execution_count": 30,
     "metadata": {},
     "output_type": "execute_result"
    }
   ],
   "source": [
    "update_parameters([W1, b1, W2, b2],grads,100)"
   ]
  },
  {
   "cell_type": "code",
   "execution_count": 20,
   "id": "c7d4bc6e-85c6-4df7-b272-17c4e0f41222",
   "metadata": {},
   "outputs": [],
   "source": [
    "def nn_model(X, y, learning_rate= 0.1,num_iter = 10001, print_cost= True):\n",
    "    np.random.seed(3)\n",
    "\n",
    "    n_x , n_fl , n_y = initializer(X,y)[\"size\"]\n",
    "\n",
    "    parameters = initializer(X,y)[\"params\"]\n",
    "\n",
    "    W1 = parameters[0]\n",
    "    b1 = parameters[1]\n",
    "    W2 = parameters[2]\n",
    "    b2 = parameters[3]\n",
    "\n",
    "    for i in range(num_iter):\n",
    "        print(parameters,\"****\")\n",
    "\n",
    "        # fp\n",
    "        Z1,A1,Z2,A2 = fprop(X,parameters)\n",
    "        \n",
    "        # cost\n",
    "        costf = cost(A2, y)\n",
    "        \n",
    "        # bp\n",
    "        grads = backward_propagation(parameters,[Z1,A1,Z2,A2],X,y)\n",
    "        \n",
    "        # gd\n",
    "        parameters = update_parameters(parameters, grads,learning_rate)\n",
    "\n",
    "\n",
    "        # print cost\n",
    "        if print_cost and i%1000 == 0:\n",
    "            print (\"Cost after iteration %i: %f\" %(i, costf))\n",
    "            \n",
    "    return parameters"
   ]
  },
  {
   "cell_type": "code",
   "execution_count": 21,
   "id": "1a9bc57b-c961-45f0-ad71-6a66df7e9e5b",
   "metadata": {},
   "outputs": [
    {
     "name": "stdout",
     "output_type": "stream",
     "text": [
      "h =  0.001\n",
      "Cost after iteration 0: 44.361207\n",
      "Cost after iteration 1000: 44.361207\n",
      "Cost after iteration 2000: 44.361207\n",
      "h =  0.01\n",
      "Cost after iteration 0: 44.361207\n",
      "Cost after iteration 1000: 44.361207\n",
      "Cost after iteration 2000: 44.361207\n",
      "h =  1\n",
      "Cost after iteration 0: 44.361207\n",
      "Cost after iteration 1000: 44.361207\n",
      "Cost after iteration 2000: 44.361207\n",
      "h =  10\n",
      "Cost after iteration 0: 44.361207\n",
      "Cost after iteration 1000: 44.361207\n",
      "Cost after iteration 2000: 44.361207\n",
      "h =  100\n",
      "Cost after iteration 0: 44.361207\n",
      "Cost after iteration 1000: 44.361207\n",
      "Cost after iteration 2000: 44.361207\n"
     ]
    }
   ],
   "source": [
    "for h in [0.001,0.01,1,10,100]:\n",
    "    print(\"h = \", h)\n",
    "    p = nn_model(X_tr,y_tr,h, num_iter = 2001)\n",
    "    p"
   ]
  },
  {
   "cell_type": "code",
   "execution_count": 22,
   "id": "0d59b063-c3e1-4770-be69-9cf109413eed",
   "metadata": {},
   "outputs": [
    {
     "name": "stdout",
     "output_type": "stream",
     "text": [
      "Cost after iteration 0: 44.361207\n",
      "Cost after iteration 1000: 44.361207\n",
      "Cost after iteration 2000: 44.361207\n",
      "Cost after iteration 3000: 44.361207\n",
      "Cost after iteration 4000: 44.361207\n",
      "Cost after iteration 5000: 44.361207\n",
      "Cost after iteration 6000: 44.361207\n",
      "Cost after iteration 7000: 44.361207\n",
      "Cost after iteration 8000: 44.361207\n",
      "Cost after iteration 9000: 44.361207\n"
     ]
    }
   ],
   "source": [
    "p = nn_model(X_tr,y_tr, num_iter = 10000, learning_rate = 1000)\n"
   ]
  },
  {
   "cell_type": "code",
   "execution_count": 158,
   "id": "946b8cc9-adf7-4db5-afac-7723a9970d24",
   "metadata": {},
   "outputs": [],
   "source": [
    "def predict(parameters, X,y):\n",
    "    \n",
    "    Z1,A1,Z2,A2 = fprop(X,y)\n",
    "\n",
    "    predictions = (A2>0.5)\n",
    "\n",
    "    return predictions"
   ]
  },
  {
   "cell_type": "code",
   "execution_count": 159,
   "id": "c5cfc60d-7db5-4cd1-b298-92aeca2a25d2",
   "metadata": {},
   "outputs": [],
   "source": [
    "preds = predict(p,X_te,y_te)"
   ]
  },
  {
   "cell_type": "code",
   "execution_count": 160,
   "id": "a2af60c6-8716-41da-9375-e2fd212caa1e",
   "metadata": {},
   "outputs": [
    {
     "data": {
      "text/plain": [
       "array([[False, False,  True, ...,  True,  True,  True],\n",
       "       [False,  True,  True, ...,  True,  True,  True],\n",
       "       [False, False, False, ...,  True, False, False],\n",
       "       ...,\n",
       "       [False,  True,  True, ...,  True,  True,  True],\n",
       "       [False, False, False, ..., False, False,  True],\n",
       "       [False, False, False, ..., False, False, False]])"
      ]
     },
     "execution_count": 160,
     "metadata": {},
     "output_type": "execute_result"
    }
   ],
   "source": [
    "preds"
   ]
  },
  {
   "cell_type": "code",
   "execution_count": 167,
   "id": "fda866f2-1e29-4060-b7a9-2f85fa8ec88b",
   "metadata": {},
   "outputs": [],
   "source": [
    "#print('Accuracy: %d' %float((np.dot(y_te,preds.T) + np.dot(1 - y_te, 1 - preds.T))/float(y_te.size)*100)+'%')"
   ]
  },
  {
   "cell_type": "code",
   "execution_count": 168,
   "id": "5f2a7854-4a72-4620-88da-74d6ccf75394",
   "metadata": {},
   "outputs": [],
   "source": [
    "Accuracy = (preds == y_te)"
   ]
  },
  {
   "cell_type": "code",
   "execution_count": 171,
   "id": "ffe87e99-fbf5-4076-9e5d-e860efe9a4ca",
   "metadata": {},
   "outputs": [
    {
     "data": {
      "text/plain": [
       "0.5154224537037037"
      ]
     },
     "execution_count": 171,
     "metadata": {},
     "output_type": "execute_result"
    }
   ],
   "source": [
    "Accuracy.sum()/(Accuracy.shape[0]*Accuracy.shape[1])"
   ]
  },
  {
   "cell_type": "code",
   "execution_count": null,
   "id": "170a5e64-47eb-4971-8205-4d9c3f33194e",
   "metadata": {},
   "outputs": [],
   "source": []
  }
 ],
 "metadata": {
  "kernelspec": {
   "display_name": "Python 3 (ipykernel)",
   "language": "python",
   "name": "python3"
  },
  "language_info": {
   "codemirror_mode": {
    "name": "ipython",
    "version": 3
   },
   "file_extension": ".py",
   "mimetype": "text/x-python",
   "name": "python",
   "nbconvert_exporter": "python",
   "pygments_lexer": "ipython3",
   "version": "3.10.14"
  }
 },
 "nbformat": 4,
 "nbformat_minor": 5
}
