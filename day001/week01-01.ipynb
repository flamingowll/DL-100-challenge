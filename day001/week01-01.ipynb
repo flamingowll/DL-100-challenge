{
 "cells": [
  {
   "cell_type": "code",
   "execution_count": 1,
   "id": "aad8cded-1f12-4d70-b4fc-f0b9bc83e325",
   "metadata": {},
   "outputs": [],
   "source": [
    "import numpy as np"
   ]
  },
  {
   "cell_type": "code",
   "execution_count": 2,
   "id": "76c952b9-052e-4090-b3b7-b139d99dd808",
   "metadata": {},
   "outputs": [],
   "source": [
    "import pandas as pd"
   ]
  },
  {
   "cell_type": "code",
   "execution_count": 12,
   "id": "c548eabf-ada3-4afb-a9fb-ee3bf2795550",
   "metadata": {},
   "outputs": [],
   "source": [
    "def sigmoid(z):\n",
    "    s = 1.0/(1+np.exp(-z))\n",
    "    return s"
   ]
  },
  {
   "cell_type": "code",
   "execution_count": 4,
   "id": "1931daaf-77a7-4b3b-8fa2-49b474605c9f",
   "metadata": {},
   "outputs": [],
   "source": [
    "def ReLU(z):\n",
    "    relu = np.max(0,z)\n",
    "    return relu"
   ]
  },
  {
   "cell_type": "code",
   "execution_count": 5,
   "id": "99e45b92-8220-4029-86b5-099a9f4f5849",
   "metadata": {},
   "outputs": [],
   "source": [
    "def initializer(x = 0, fl = 0, sl = 0):\n",
    "    W1 = np.random.randn((fl,x))*0.01\n",
    "    b1 = np.zeros((fl, 1))\n",
    "    W2 = np.random.randn((sl,fl))*0.01\n",
    "    b2 = np.zeros((sl,1))\n",
    "    return W1, b1, W2, b2"
   ]
  },
  {
   "cell_type": "code",
   "execution_count": 16,
   "id": "b32d546c-e362-403e-b921-7fd28184f5b6",
   "metadata": {},
   "outputs": [],
   "source": [
    "def propagate(w, b, X, Y):\n",
    "    m = X.shape[1]\n",
    "    A = sigmoid(np.dot(w.T,X)+b)\n",
    "    J = (-1/m) * np.sum(((Y*(np.log(A)))+((1-Y)*np.log(1-A))))\n",
    "\n",
    "    dw = (1/m)*np.dot(X,((A-Y).T))\n",
    "    db = (1/m)*np.sum(A-Y)\n",
    "    \n",
    "    return J, dw, db"
   ]
  },
  {
   "cell_type": "code",
   "execution_count": 20,
   "id": "9c35e3da-0bb8-4b07-9f0a-b88c42a16e2c",
   "metadata": {},
   "outputs": [],
   "source": [
    "import copy\n",
    "def optimize(w, b, X, Y, num_iter = 100, learning_rate = 0.009, print_cost = True):\n",
    "    w = copy.deepcopy(w)\n",
    "    b = copy.deepcopy(b)\n",
    "    costs = []\n",
    "\n",
    "    for i in range(num_iter):\n",
    "\n",
    "        J, dw, db = propagate(w,b,X,Y)\n",
    "\n",
    "        w = w - learning_rate* dw\n",
    "        b = b - learning_rate* db\n",
    "\n",
    "        if (i)%100 == 0:\n",
    "            costs.append(J)\n",
    "            if print_cost:\n",
    "                print(\"cost after iteration %i: %f\" %(i, J))\n",
    "\n",
    "    params = [w, b]\n",
    "    return params, dw, db, costs"
   ]
  },
  {
   "cell_type": "code",
   "execution_count": 21,
   "id": "ee627e20-e472-4276-a45a-2738e62ef0df",
   "metadata": {},
   "outputs": [
    {
     "name": "stdout",
     "output_type": "stream",
     "text": [
      "cost after iteration 0: 0.159005\n",
      "([array([[0.80956046],\n",
      "       [2.0508202 ]]), 1.5948713189708588], array([[ 0.17860505],\n",
      "       [-0.04840656]]), -0.08888460336847771, [0.15900537707692405])\n"
     ]
    }
   ],
   "source": [
    "w = np.array([[1.],[2]])\n",
    "b = 1.5\n",
    "X = np.array([[1.,-2,-1.],[3.,0.5,-3.2]])\n",
    "Y = np.array([[1,1,0]])\n",
    "print(optimize(w, b, X, Y))\n"
   ]
  },
  {
   "cell_type": "code",
   "execution_count": 22,
   "id": "474673b7-5dcb-489d-b28f-c1922fe53ee4",
   "metadata": {},
   "outputs": [],
   "source": [
    "def predict(w, b, X):\n",
    "    m = X.shape[1]\n",
    "    Y_Prediction = np.zeros((1,m))\n",
    "    w = w.reshape(X.shape[0],1)\n",
    "\n",
    "    A = sigmoid(np.dot(w.T,X)+b)\n",
    "\n",
    "    for i in range(A.shape[1]):\n",
    "        if A[0,i] > 0.5:\n",
    "            Y_Prediction[0,i] = 1\n",
    "        else:\n",
    "            Y_Prediction[0,i] = 0\n",
    "    \n",
    "    return Y_Prediction"
   ]
  },
  {
   "cell_type": "code",
   "execution_count": 24,
   "id": "60787235-d52d-4bbe-805b-0a76aacfc66b",
   "metadata": {},
   "outputs": [],
   "source": [
    "def model(X_train,Y_train,X_test, Y_test,num_iter=2000, learning_rate=0.5, print_cost = True):\n",
    "\n",
    "    W1, b1, W2, b2  = initializer(X_train,1)\n",
    "    params, dw, db, costs = optimize(W1, b1, X_train,Y_train, num_iter, learning_rate, print_cost)\n",
    "    W1 = params[0]\n",
    "    b1 = params[1]\n",
    "    Y_pred_test = predict(W1, b1, X_test)\n",
    "    Y_pred_train = predict(W1, b1, X_train)\n",
    "    \n",
    "\n",
    "    \n",
    "    if print_cost:\n",
    "        print(\"train accuracy: {} %\".format(100 - np.mean(np.abs(Y_pred_train - Y_train)) * 100))\n",
    "        print(\"test accuracy: {} %\".format(100 - np.mean(np.abs(Y_pred_test - Y_test)) * 100))\n",
    "\n",
    "    \n",
    "    d = {\n",
    "        \"costs\": costs,\n",
    "        \"Y_pred_test\": Y_pred_test,\n",
    "        \"Y_pred_train\": Y_pred_train,\n",
    "        \"W\": W1,\n",
    "        \"b\": b1,\n",
    "        \"learning_rate\": learning_rate,\n",
    "        \"num_iter\": num_iter,\n",
    "    }\n",
    "    return d"
   ]
  },
  {
   "cell_type": "code",
   "execution_count": null,
   "id": "08533a5d-bc31-470f-a888-349d2d024d95",
   "metadata": {},
   "outputs": [],
   "source": []
  }
 ],
 "metadata": {
  "kernelspec": {
   "display_name": "Python 3 (ipykernel)",
   "language": "python",
   "name": "python3"
  },
  "language_info": {
   "codemirror_mode": {
    "name": "ipython",
    "version": 3
   },
   "file_extension": ".py",
   "mimetype": "text/x-python",
   "name": "python",
   "nbconvert_exporter": "python",
   "pygments_lexer": "ipython3",
   "version": "3.10.14"
  }
 },
 "nbformat": 4,
 "nbformat_minor": 5
}
